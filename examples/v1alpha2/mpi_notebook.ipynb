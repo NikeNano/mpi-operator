{
 "cells": [
  {
   "cell_type": "code",
   "execution_count": 1,
   "metadata": {},
   "outputs": [
    {
     "name": "stderr",
     "output_type": "stream",
     "text": [
      "Running in project ds-playground-237314\n",
      "Running in namespace kubeflow-niklas-hansson\n"
     ]
    }
   ],
   "source": [
    "import kfp\n",
    "import yaml\n",
    "import os\n",
    "import logging\n",
    "import fairing\n",
    "\n",
    "from kubernetes import client as k8s_client\n",
    "from kubernetes import config as k8s_config\n",
    "\n",
    "GCP_PROJECT = fairing.cloud.gcp.guess_project_name()\n",
    "namespace = fairing.utils.get_current_k8s_namespace()\n",
    "\n",
    "logging.info(f\"Running in project {GCP_PROJECT}\")\n",
    "logging.info(f\"Running in namespace {namespace}\")"
   ]
  },
  {
   "cell_type": "code",
   "execution_count": 2,
   "metadata": {},
   "outputs": [],
   "source": [
    "#! pip install kfp\n",
    "#! pip install table_logger\n",
    "#! pip install fairing\n",
    "#! pip install retrying"
   ]
  },
  {
   "cell_type": "markdown",
   "metadata": {},
   "source": [
    "# Notebook to start mpi-operator job"
   ]
  },
  {
   "cell_type": "markdown",
   "metadata": {},
   "source": [
    "## First thing first,  set up the credentials if needed. \n",
    "\n",
    "If you are runing on your kubeflow cluster this should not be an issues and you can contiue to the next step. "
   ]
  },
  {
   "cell_type": "code",
   "execution_count": 8,
   "metadata": {},
   "outputs": [],
   "source": [
    "!export GOOGLE_APPLICATION_CREDENTIALS=YOUR_GCP_CREDENTIALS.json"
   ]
  },
  {
   "cell_type": "markdown",
   "metadata": {},
   "source": [
    "## Define mpi job. \n",
    "\n",
    "This example is based aroud the tensorflow-benchmark found [here](https://github.com/kubeflow/mpi-operator/blob/master/examples/v1alpha1/tensorflow-benchmarks.yaml). To make this example we have defined the complete job below."
   ]
  },
  {
   "cell_type": "code",
   "execution_count": 2,
   "metadata": {},
   "outputs": [],
   "source": [
    "mpi_job = f\"\"\"\n",
    "apiVersion: kubeflow.org/v1alpha2\n",
    "kind: MPIJob\n",
    "metadata:\n",
    "  name: tensorflow-benchmarks\n",
    "spec:\n",
    "  slotsPerWorker: 1\n",
    "  cleanPodPolicy: Running\n",
    "  mpiReplicaSpecs:\n",
    "    Launcher:\n",
    "      replicas: 1\n",
    "      template:\n",
    "         spec:\n",
    "           containers:\n",
    "           - image: mpioperator/tensorflow-benchmarks:latest\n",
    "             name: tensorflow-benchmarks\n",
    "             command:\n",
    "             - mpirun\n",
    "             - --allow-run-as-root\n",
    "             - -np\n",
    "             - \"2\"\n",
    "             - -bind-to\n",
    "             - none\n",
    "             - -map-by\n",
    "             - slot\n",
    "             - -x\n",
    "             - NCCL_DEBUG=INFO\n",
    "             - -x\n",
    "             - LD_LIBRARY_PATH\n",
    "             - -x\n",
    "             - PATH\n",
    "             - -mca\n",
    "             - pml\n",
    "             - ob1\n",
    "             - -mca\n",
    "             - btl\n",
    "             - ^openib\n",
    "             - python\n",
    "             - scripts/tf_cnn_benchmarks/tf_cnn_benchmarks.py\n",
    "             - --model=resnet101\n",
    "             - --batch_size=64\n",
    "             - --variable_update=horovod\n",
    "    Worker:\n",
    "      replicas: 2\n",
    "      template:\n",
    "        spec:\n",
    "          containers:\n",
    "          - image: mpioperator/tensorflow-benchmarks:latest\n",
    "            name: tensorflow-benchmarks\n",
    "            resources:\n",
    "              limits:\n",
    "                nvidia.com/gpu: 1\n",
    "\"\"\""
   ]
  },
  {
   "cell_type": "code",
   "execution_count": 3,
   "metadata": {},
   "outputs": [],
   "source": [
    "import retrying\n",
    "from kubernetes import client\n",
    "from kubernetes import watch as k8s_watch\n",
    "from table_logger import TableLogger\n",
    "\n",
    "\n",
    "tbl = TableLogger(\n",
    "  columns='NAME,STATE,TIME',\n",
    "  colwidth={'NAME': 30, 'STATE':20, 'TIME':30},\n",
    "  border=False)\n",
    "\n",
    "@retrying.retry(wait_fixed=1000, stop_max_attempt_number=20)\n",
    "def watch_k8s(name=None, namespace=None, timeout_seconds=600):\n",
    "  \"\"\"Watch the created or patched InferenceService in the specified namespace\"\"\"\n",
    "\n",
    "  #if namespace is None:\n",
    "    #namespace = utils.get_default_target_namespace()\n",
    "\n",
    "  stream = k8s_watch.Watch().stream(\n",
    "    client.CustomObjectsApi().list_namespaced_custom_object,\n",
    "    MPI_JOB_GROUP,\n",
    "    MPI_JOB_VERSION,\n",
    "    namespace,\n",
    "    MPI_JOB_PLURAL,\n",
    "    timeout_seconds=timeout_seconds)\n",
    "\n",
    "  for event in stream:\n",
    "    mpijob = event['object']\n",
    "    mpijob_name = mpijob['metadata']['name']\n",
    "    if name and name != mpijob_name:\n",
    "      continue\n",
    "    else:\n",
    "      status = ''\n",
    "      update_time = ''\n",
    "      last_condition = mpijob.get('status', {}).get('conditions', [])[-1]\n",
    "      status = last_condition.get('type', '')\n",
    "      update_time = last_condition.get('lastTransitionTime', '')\n",
    "\n",
    "      tbl(mpijob_name, status, update_time)\n",
    "\n",
    "      if name == mpijob_name:\n",
    "        if status == 'Succeeded' or status == 'Failed':\n",
    "          break"
   ]
  },
  {
   "cell_type": "markdown",
   "metadata": {},
   "source": [
    "### Setup a python mpijob client\n",
    "\n",
    "This sectin contains some helper code that is a modified version of the [tfjob client](https://github.com/kubeflow/tf-operator/blob/master/sdk/python/docs/TFJobClient.md). "
   ]
  },
  {
   "cell_type": "code",
   "execution_count": 4,
   "metadata": {},
   "outputs": [],
   "source": [
    "from kubernetes import client, config\n",
    "import time\n",
    "\n",
    "def is_running_in_k8s():\n",
    "  return os.path.isdir('/var/run/secrets/kubernetes.io/')\n",
    "\n",
    "MPI_JOB_GROUP = \"kubeflow.org\"\n",
    "MPI_JOB_PLURAL = \"mpijobs\"\n",
    "MPI_JOB_NAME_LABEL = \"job-mpi\"\n",
    "MPI_JOB_VERSION = \"v1alpha2\"\n",
    "APISERVER_TIMEOUT = 120\n",
    "\n",
    "class MPIJobClient(object):\n",
    "\n",
    "  def __init__(self, config_file=None, context=None, # pylint: disable=too-many-arguments\n",
    "               client_configuration=None, persist_config=True):\n",
    "    \"\"\"\n",
    "    MPIJob client constructor\n",
    "    :param config_file: kubeconfig file, defaults to ~/.kube/config\n",
    "    :param context: kubernetes context\n",
    "    :param client_configuration: kubernetes configuration object\n",
    "    :param persist_config:\n",
    "    \"\"\"\n",
    "    if config_file or not is_running_in_k8s():\n",
    "      config.load_kube_config()\n",
    "        #config_file=config_file,\n",
    "        #context=context,\n",
    "        #client_configuration=client_configuration,\n",
    "        #persist_config=persist_config)\n",
    "    else:\n",
    "      config.load_incluster_config()\n",
    "\n",
    "    self.custom_api = client.CustomObjectsApi()\n",
    "    self.core_api = client.CoreV1Api()\n",
    "\n",
    "  def create(self, mpijob, namespace=None):\n",
    "    \"\"\"\n",
    "    Create the MPIJob\n",
    "    :param mpijob: mpijob object\n",
    "    :param namespace: defaults to current or default namespace\n",
    "    :return: created mpijob\n",
    "    \"\"\"\n",
    "    \n",
    "    try:\n",
    "      outputs = self.custom_api.create_namespaced_custom_object(\n",
    "        MPI_JOB_GROUP,\n",
    "        MPI_JOB_VERSION,\n",
    "        namespace,\n",
    "        MPI_JOB_PLURAL,\n",
    "        mpijob)\n",
    "    except client.rest.ApiException as e:\n",
    "      raise RuntimeError(\n",
    "        \"Exception when calling CustomObjectsApi->create_namespaced_custom_object:\\\n",
    "         %s\\n\" % e)\n",
    "\n",
    "    return outputs\n",
    "\n",
    "\n",
    "  def is_job_succeeded(self, name, namespace=None):\n",
    "    \"\"\"Returns true if the MPIJob succeeded; false otherwise.\n",
    "    :param name: The MPIJob name.\n",
    "    :param namespace: defaults to current or default namespace.\n",
    "    :return: True or False\n",
    "    \"\"\"\n",
    "    mpijob_status = self.get_job_status(name, namespace=namespace)\n",
    "    return mpijob_status.lower() == \"succeeded\"\n",
    "\n",
    "\n",
    "  def get_job_status(self, name, namespace=None):\n",
    "    \"\"\"Returns MPIJob status, such as Running, Failed or Succeeded.\n",
    "    :param name: The MPIJob name.\n",
    "    :param namespace: defaults to current or default namespace.\n",
    "    :return: Object MPIJob status\n",
    "    \"\"\"\n",
    "    if namespace is None:\n",
    "      namespace = utils.get_default_target_namespace()\n",
    "\n",
    "    mpijob = self.get(name, namespace=namespace)\n",
    "    last_condition = mpijob.get(\"status\", {}).get(\"conditions\", [])[-1]\n",
    "    return last_condition.get(\"type\", \"\")\n",
    "\n",
    "  def wait_for_condition(self, name,\n",
    "                         expected_condition,\n",
    "                         namespace=None,\n",
    "                         timeout_seconds=1200,\n",
    "                         polling_interval=30,\n",
    "                         status_callback=None):\n",
    "    \"\"\"Waits until any of the specified conditions occur.\n",
    "    :param name: Name of the job.\n",
    "    :param expected_condition: A list of conditions. Function waits until any of the\n",
    "           supplied conditions is reached.\n",
    "    :param namespace: defaults to current or default namespace.\n",
    "    :param timeout_seconds: How long to wait for the job.\n",
    "    :param polling_interval: How often to poll for the status of the job.\n",
    "    :param status_callback: (Optional): Callable. If supplied this callable is\n",
    "           invoked after we poll the job. Callable takes a single argument which\n",
    "           is the job.\n",
    "    :return: Object MPIJob status\n",
    "    \"\"\"\n",
    "\n",
    "    #if namespace is None:\n",
    "    #  namespace = utils.get_default_target_namespace()\n",
    "\n",
    "    for _ in range(round(timeout_seconds/polling_interval)):\n",
    "\n",
    "      mpi_job = None\n",
    "      mpi_job = self.get(name, namespace=namespace)\n",
    "\n",
    "      if mpi_job:\n",
    "        if status_callback:\n",
    "          status_callback(mpi_job)\n",
    "\n",
    "        # If we poll the CRD quick enough status won't have been set yet.\n",
    "        conditions = mpi_job.get(\"status\", {}).get(\"conditions\", [])\n",
    "        # Conditions might have a value of None in status.\n",
    "        conditions = conditions or []\n",
    "        for c in conditions:\n",
    "          if c.get(\"type\", \"\") in expected_condition:\n",
    "            return mpi_job\n",
    "\n",
    "      time.sleep(polling_interval)\n",
    "\n",
    "    raise RuntimeError(\n",
    "      \"Timeout waiting for MPIJob {0} in namespace {1} to enter one of the \"\n",
    "      \"conditions {2}.\".format(name, namespace, expected_condition), mpi_job)\n",
    "\n",
    "  def get(self, name=None, namespace=None, watch=False, timeout_seconds=600): #pylint: disable=inconsistent-return-statements\n",
    "    \"\"\"\n",
    "    Get the mpijob\n",
    "    :param name: existing mpijob name, if not defined, the get all mpijobs in the namespace.\n",
    "    :param namespace: defaults to current or default namespace\n",
    "    :param watch: Watch the MPIJob if `True`.\n",
    "    :param timeout_seconds: How long to watch the job..\n",
    "    :return: mpijob\n",
    "    \"\"\"\n",
    "    if namespace is None:\n",
    "      namespace = utils.get_default_target_namespace()\n",
    "\n",
    "    if name:\n",
    "        thread = self.custom_api.get_namespaced_custom_object(\n",
    "          MPI_JOB_GROUP,\n",
    "          MPI_JOB_VERSION,\n",
    "          namespace,\n",
    "          MPI_JOB_PLURAL,\n",
    "          name,\n",
    "          async_req=True)\n",
    "\n",
    "        mpijob = None\n",
    "        try:\n",
    "          mpijob = thread.get(APISERVER_TIMEOUT)\n",
    "        except multiprocessing.TimeoutError:\n",
    "          raise RuntimeError(\"Timeout trying to get MPIJob.\")\n",
    "        except client.rest.ApiException as e:\n",
    "          raise RuntimeError(\n",
    "            \"Exception when calling CustomObjectsApi->get_namespaced_custom_object:\\\n",
    "            %s\\n\" % e)\n",
    "        except Exception as e:\n",
    "          raise RuntimeError(\n",
    "            \"There was a problem to get MPIJob {0} in namespace {1}. Exception: \\\n",
    "            {2} \".format(name, namespace, e))\n",
    "        return mpijob\n",
    "    else:\n",
    "      if watch:\n",
    "        watch_k8s(\n",
    "            namespace=namespace,\n",
    "            timeout_seconds=timeout_seconds)\n",
    "      else:\n",
    "        thread = self.custom_api.list_namespaced_custom_object(\n",
    "          MPI_JOB_GROUP,\n",
    "          MPI_JOB_VERSION,\n",
    "          namespace,\n",
    "          MPI_JOB_PLURAL,\n",
    "          async_req=True)\n",
    "\n",
    "        mpijob = None\n",
    "        try:\n",
    "          mpijobs = thread.get(constants.APISERVER_TIMEOUT)\n",
    "        except multiprocessing.TimeoutError:\n",
    "          raise RuntimeError(\"Timeout trying to get MPIJob.\")\n",
    "        except client.rest.ApiException as e:\n",
    "          raise RuntimeError(\n",
    "            \"Exception when calling CustomObjectsApi->list_namespaced_custom_object:\\\n",
    "            %s\\n\" % e)\n",
    "        except Exception as e:\n",
    "          raise RuntimeError(\n",
    "            \"There was a problem to list MPIJobs in namespace {0}. \\\n",
    "            Exception: {1} \".format(namespace, e))\n",
    "        return mpijobs"
   ]
  },
  {
   "cell_type": "markdown",
   "metadata": {},
   "source": [
    "## MPI client"
   ]
  },
  {
   "cell_type": "markdown",
   "metadata": {},
   "source": [
    "### Define the mpi client"
   ]
  },
  {
   "cell_type": "code",
   "execution_count": 5,
   "metadata": {},
   "outputs": [],
   "source": [
    "#mpi_job_client = MPIJobClient(config_file=\"YOUR_PATH_KUBECONFIG/.kube/config\") # if you run localy\n",
    "mpi_job_client = MPIJobClient()"
   ]
  },
  {
   "cell_type": "markdown",
   "metadata": {},
   "source": [
    "### Run the job"
   ]
  },
  {
   "cell_type": "code",
   "execution_count": 6,
   "metadata": {},
   "outputs": [
    {
     "name": "stderr",
     "output_type": "stream",
     "text": [
      "Created job in namespace: kubeflow-niklas-hansson\n"
     ]
    }
   ],
   "source": [
    "mpi_job_body = yaml.safe_load(mpi_job)\n",
    "mpi_job = mpi_job_client.create(mpi_job_body, namespace=namespace)  \n",
    "\n",
    "logging.info(f\"Created job in namespace: {namespace}\")"
   ]
  },
  {
   "cell_type": "markdown",
   "metadata": {},
   "source": [
    "### Wait for the job to finish"
   ]
  },
  {
   "cell_type": "markdown",
   "metadata": {},
   "source": [
    "The job takes roughtly 20 minutes to finish if GPU resources needs to be provisioned. However if everything needed is allready provisined in the cluster it will be a lot faster.  "
   ]
  },
  {
   "cell_type": "code",
   "execution_count": 29,
   "metadata": {},
   "outputs": [
    {
     "ename": "NameError",
     "evalue": "name 'multiprocessing' is not defined",
     "output_type": "error",
     "traceback": [
      "\u001b[0;31m---------------------------------------------------------------------------\u001b[0m",
      "\u001b[0;31mApiException\u001b[0m                              Traceback (most recent call last)",
      "\u001b[0;32m<ipython-input-4-de8e5a1ff5b7>\u001b[0m in \u001b[0;36mget\u001b[0;34m(self, name, namespace, watch, timeout_seconds)\u001b[0m\n\u001b[1;32m    149\u001b[0m         \u001b[0;32mtry\u001b[0m\u001b[0;34m:\u001b[0m\u001b[0;34m\u001b[0m\u001b[0;34m\u001b[0m\u001b[0m\n\u001b[0;32m--> 150\u001b[0;31m           \u001b[0mmpijob\u001b[0m \u001b[0;34m=\u001b[0m \u001b[0mthread\u001b[0m\u001b[0;34m.\u001b[0m\u001b[0mget\u001b[0m\u001b[0;34m(\u001b[0m\u001b[0mAPISERVER_TIMEOUT\u001b[0m\u001b[0;34m)\u001b[0m\u001b[0;34m\u001b[0m\u001b[0;34m\u001b[0m\u001b[0m\n\u001b[0m\u001b[1;32m    151\u001b[0m         \u001b[0;32mexcept\u001b[0m \u001b[0mmultiprocessing\u001b[0m\u001b[0;34m.\u001b[0m\u001b[0mTimeoutError\u001b[0m\u001b[0;34m:\u001b[0m\u001b[0;34m\u001b[0m\u001b[0;34m\u001b[0m\u001b[0m\n",
      "\u001b[0;32m/usr/lib/python3.6/multiprocessing/pool.py\u001b[0m in \u001b[0;36mget\u001b[0;34m(self, timeout)\u001b[0m\n\u001b[1;32m    643\u001b[0m         \u001b[0;32melse\u001b[0m\u001b[0;34m:\u001b[0m\u001b[0;34m\u001b[0m\u001b[0;34m\u001b[0m\u001b[0m\n\u001b[0;32m--> 644\u001b[0;31m             \u001b[0;32mraise\u001b[0m \u001b[0mself\u001b[0m\u001b[0;34m.\u001b[0m\u001b[0m_value\u001b[0m\u001b[0;34m\u001b[0m\u001b[0;34m\u001b[0m\u001b[0m\n\u001b[0m\u001b[1;32m    645\u001b[0m \u001b[0;34m\u001b[0m\u001b[0m\n",
      "\u001b[0;32m/usr/lib/python3.6/multiprocessing/pool.py\u001b[0m in \u001b[0;36mworker\u001b[0;34m(inqueue, outqueue, initializer, initargs, maxtasks, wrap_exception)\u001b[0m\n\u001b[1;32m    118\u001b[0m         \u001b[0;32mtry\u001b[0m\u001b[0;34m:\u001b[0m\u001b[0;34m\u001b[0m\u001b[0;34m\u001b[0m\u001b[0m\n\u001b[0;32m--> 119\u001b[0;31m             \u001b[0mresult\u001b[0m \u001b[0;34m=\u001b[0m \u001b[0;34m(\u001b[0m\u001b[0;32mTrue\u001b[0m\u001b[0;34m,\u001b[0m \u001b[0mfunc\u001b[0m\u001b[0;34m(\u001b[0m\u001b[0;34m*\u001b[0m\u001b[0margs\u001b[0m\u001b[0;34m,\u001b[0m \u001b[0;34m**\u001b[0m\u001b[0mkwds\u001b[0m\u001b[0;34m)\u001b[0m\u001b[0;34m)\u001b[0m\u001b[0;34m\u001b[0m\u001b[0;34m\u001b[0m\u001b[0m\n\u001b[0m\u001b[1;32m    120\u001b[0m         \u001b[0;32mexcept\u001b[0m \u001b[0mException\u001b[0m \u001b[0;32mas\u001b[0m \u001b[0me\u001b[0m\u001b[0;34m:\u001b[0m\u001b[0;34m\u001b[0m\u001b[0;34m\u001b[0m\u001b[0m\n",
      "\u001b[0;32m/usr/local/lib/python3.6/dist-packages/kubernetes/client/api_client.py\u001b[0m in \u001b[0;36m__call_api\u001b[0;34m(self, resource_path, method, path_params, query_params, header_params, body, post_params, files, response_type, auth_settings, _return_http_data_only, collection_formats, _preload_content, _request_timeout)\u001b[0m\n\u001b[1;32m    167\u001b[0m                                      \u001b[0m_preload_content\u001b[0m\u001b[0;34m=\u001b[0m\u001b[0m_preload_content\u001b[0m\u001b[0;34m,\u001b[0m\u001b[0;34m\u001b[0m\u001b[0;34m\u001b[0m\u001b[0m\n\u001b[0;32m--> 168\u001b[0;31m                                      _request_timeout=_request_timeout)\n\u001b[0m\u001b[1;32m    169\u001b[0m \u001b[0;34m\u001b[0m\u001b[0m\n",
      "\u001b[0;32m/usr/local/lib/python3.6/dist-packages/kubernetes/client/api_client.py\u001b[0m in \u001b[0;36mrequest\u001b[0;34m(self, method, url, query_params, headers, post_params, body, _preload_content, _request_timeout)\u001b[0m\n\u001b[1;32m    354\u001b[0m                                         \u001b[0m_request_timeout\u001b[0m\u001b[0;34m=\u001b[0m\u001b[0m_request_timeout\u001b[0m\u001b[0;34m,\u001b[0m\u001b[0;34m\u001b[0m\u001b[0;34m\u001b[0m\u001b[0m\n\u001b[0;32m--> 355\u001b[0;31m                                         headers=headers)\n\u001b[0m\u001b[1;32m    356\u001b[0m         \u001b[0;32melif\u001b[0m \u001b[0mmethod\u001b[0m \u001b[0;34m==\u001b[0m \u001b[0;34m\"HEAD\"\u001b[0m\u001b[0;34m:\u001b[0m\u001b[0;34m\u001b[0m\u001b[0;34m\u001b[0m\u001b[0m\n",
      "\u001b[0;32m/usr/local/lib/python3.6/dist-packages/kubernetes/client/rest.py\u001b[0m in \u001b[0;36mGET\u001b[0;34m(self, url, headers, query_params, _preload_content, _request_timeout)\u001b[0m\n\u001b[1;32m    230\u001b[0m                             \u001b[0m_request_timeout\u001b[0m\u001b[0;34m=\u001b[0m\u001b[0m_request_timeout\u001b[0m\u001b[0;34m,\u001b[0m\u001b[0;34m\u001b[0m\u001b[0;34m\u001b[0m\u001b[0m\n\u001b[0;32m--> 231\u001b[0;31m                             query_params=query_params)\n\u001b[0m\u001b[1;32m    232\u001b[0m \u001b[0;34m\u001b[0m\u001b[0m\n",
      "\u001b[0;32m/usr/local/lib/python3.6/dist-packages/kubernetes/client/rest.py\u001b[0m in \u001b[0;36mrequest\u001b[0;34m(self, method, url, query_params, headers, body, post_params, _preload_content, _request_timeout)\u001b[0m\n\u001b[1;32m    221\u001b[0m         \u001b[0;32mif\u001b[0m \u001b[0;32mnot\u001b[0m \u001b[0;36m200\u001b[0m \u001b[0;34m<=\u001b[0m \u001b[0mr\u001b[0m\u001b[0;34m.\u001b[0m\u001b[0mstatus\u001b[0m \u001b[0;34m<=\u001b[0m \u001b[0;36m299\u001b[0m\u001b[0;34m:\u001b[0m\u001b[0;34m\u001b[0m\u001b[0;34m\u001b[0m\u001b[0m\n\u001b[0;32m--> 222\u001b[0;31m             \u001b[0;32mraise\u001b[0m \u001b[0mApiException\u001b[0m\u001b[0;34m(\u001b[0m\u001b[0mhttp_resp\u001b[0m\u001b[0;34m=\u001b[0m\u001b[0mr\u001b[0m\u001b[0;34m)\u001b[0m\u001b[0;34m\u001b[0m\u001b[0;34m\u001b[0m\u001b[0m\n\u001b[0m\u001b[1;32m    223\u001b[0m \u001b[0;34m\u001b[0m\u001b[0m\n",
      "\u001b[0;31mApiException\u001b[0m: (404)\nReason: Not Found\nHTTP response headers: HTTPHeaderDict({'Audit-Id': '1d3faf92-795c-418b-83ed-323792dad8eb', 'Content-Type': 'application/json', 'Date': 'Sat, 30 May 2020 19:47:53 GMT', 'Content-Length': '252'})\nHTTP response body: {\"kind\":\"Status\",\"apiVersion\":\"v1\",\"metadata\":{},\"status\":\"Failure\",\"message\":\"mpijobs.kubeflow.org \\\"tensorflow-benchmarks\\\" not found\",\"reason\":\"NotFound\",\"details\":{\"name\":\"tensorflow-benchmarks\",\"group\":\"kubeflow.org\",\"kind\":\"mpijobs\"},\"code\":404}\n\n",
      "\nDuring handling of the above exception, another exception occurred:\n",
      "\u001b[0;31mNameError\u001b[0m                                 Traceback (most recent call last)",
      "\u001b[0;32m<ipython-input-29-f50b2778cb92>\u001b[0m in \u001b[0;36m<module>\u001b[0;34m\u001b[0m\n\u001b[1;32m      1\u001b[0m \u001b[0mtrain_name\u001b[0m\u001b[0;34m=\u001b[0m\u001b[0;34m\"tensorflow-benchmarks\"\u001b[0m\u001b[0;34m\u001b[0m\u001b[0;34m\u001b[0m\u001b[0m\n\u001b[0;32m----> 2\u001b[0;31m \u001b[0mmpi_job\u001b[0m \u001b[0;34m=\u001b[0m \u001b[0mmpi_job_client\u001b[0m\u001b[0;34m.\u001b[0m\u001b[0mwait_for_condition\u001b[0m\u001b[0;34m(\u001b[0m\u001b[0mtrain_name\u001b[0m\u001b[0;34m,\u001b[0m \u001b[0mexpected_condition\u001b[0m\u001b[0;34m=\u001b[0m\u001b[0;34m[\u001b[0m\u001b[0;34m\"Succeeded\"\u001b[0m\u001b[0;34m,\u001b[0m \u001b[0;34m\"Failed\"\u001b[0m\u001b[0;34m]\u001b[0m\u001b[0;34m,\u001b[0m \u001b[0mnamespace\u001b[0m\u001b[0;34m=\u001b[0m\u001b[0mnamespace\u001b[0m\u001b[0;34m,\u001b[0m \u001b[0mtimeout_seconds\u001b[0m\u001b[0;34m=\u001b[0m\u001b[0;36m1200\u001b[0m\u001b[0;34m)\u001b[0m\u001b[0;34m\u001b[0m\u001b[0;34m\u001b[0m\u001b[0m\n\u001b[0m\u001b[1;32m      3\u001b[0m \u001b[0;34m\u001b[0m\u001b[0m\n\u001b[1;32m      4\u001b[0m \u001b[0;32mif\u001b[0m \u001b[0mmpi_job_client\u001b[0m\u001b[0;34m.\u001b[0m\u001b[0mis_job_succeeded\u001b[0m\u001b[0;34m(\u001b[0m\u001b[0mtrain_name\u001b[0m\u001b[0;34m,\u001b[0m \u001b[0mnamespace\u001b[0m\u001b[0;34m)\u001b[0m\u001b[0;34m:\u001b[0m\u001b[0;34m\u001b[0m\u001b[0;34m\u001b[0m\u001b[0m\n\u001b[1;32m      5\u001b[0m     \u001b[0mprint\u001b[0m\u001b[0;34m(\u001b[0m\u001b[0;34m\"The job succeded\"\u001b[0m\u001b[0;34m)\u001b[0m\u001b[0;34m\u001b[0m\u001b[0;34m\u001b[0m\u001b[0m\n",
      "\u001b[0;32m<ipython-input-4-de8e5a1ff5b7>\u001b[0m in \u001b[0;36mwait_for_condition\u001b[0;34m(self, name, expected_condition, namespace, timeout_seconds, polling_interval, status_callback)\u001b[0m\n\u001b[1;32m    105\u001b[0m \u001b[0;34m\u001b[0m\u001b[0m\n\u001b[1;32m    106\u001b[0m       \u001b[0mmpi_job\u001b[0m \u001b[0;34m=\u001b[0m \u001b[0;32mNone\u001b[0m\u001b[0;34m\u001b[0m\u001b[0;34m\u001b[0m\u001b[0m\n\u001b[0;32m--> 107\u001b[0;31m       \u001b[0mmpi_job\u001b[0m \u001b[0;34m=\u001b[0m \u001b[0mself\u001b[0m\u001b[0;34m.\u001b[0m\u001b[0mget\u001b[0m\u001b[0;34m(\u001b[0m\u001b[0mname\u001b[0m\u001b[0;34m,\u001b[0m \u001b[0mnamespace\u001b[0m\u001b[0;34m=\u001b[0m\u001b[0mnamespace\u001b[0m\u001b[0;34m)\u001b[0m\u001b[0;34m\u001b[0m\u001b[0;34m\u001b[0m\u001b[0m\n\u001b[0m\u001b[1;32m    108\u001b[0m \u001b[0;34m\u001b[0m\u001b[0m\n\u001b[1;32m    109\u001b[0m       \u001b[0;32mif\u001b[0m \u001b[0mmpi_job\u001b[0m\u001b[0;34m:\u001b[0m\u001b[0;34m\u001b[0m\u001b[0;34m\u001b[0m\u001b[0m\n",
      "\u001b[0;32m<ipython-input-4-de8e5a1ff5b7>\u001b[0m in \u001b[0;36mget\u001b[0;34m(self, name, namespace, watch, timeout_seconds)\u001b[0m\n\u001b[1;32m    149\u001b[0m         \u001b[0;32mtry\u001b[0m\u001b[0;34m:\u001b[0m\u001b[0;34m\u001b[0m\u001b[0;34m\u001b[0m\u001b[0m\n\u001b[1;32m    150\u001b[0m           \u001b[0mmpijob\u001b[0m \u001b[0;34m=\u001b[0m \u001b[0mthread\u001b[0m\u001b[0;34m.\u001b[0m\u001b[0mget\u001b[0m\u001b[0;34m(\u001b[0m\u001b[0mAPISERVER_TIMEOUT\u001b[0m\u001b[0;34m)\u001b[0m\u001b[0;34m\u001b[0m\u001b[0;34m\u001b[0m\u001b[0m\n\u001b[0;32m--> 151\u001b[0;31m         \u001b[0;32mexcept\u001b[0m \u001b[0mmultiprocessing\u001b[0m\u001b[0;34m.\u001b[0m\u001b[0mTimeoutError\u001b[0m\u001b[0;34m:\u001b[0m\u001b[0;34m\u001b[0m\u001b[0;34m\u001b[0m\u001b[0m\n\u001b[0m\u001b[1;32m    152\u001b[0m           \u001b[0;32mraise\u001b[0m \u001b[0mRuntimeError\u001b[0m\u001b[0;34m(\u001b[0m\u001b[0;34m\"Timeout trying to get MPIJob.\"\u001b[0m\u001b[0;34m)\u001b[0m\u001b[0;34m\u001b[0m\u001b[0;34m\u001b[0m\u001b[0m\n\u001b[1;32m    153\u001b[0m         \u001b[0;32mexcept\u001b[0m \u001b[0mclient\u001b[0m\u001b[0;34m.\u001b[0m\u001b[0mrest\u001b[0m\u001b[0;34m.\u001b[0m\u001b[0mApiException\u001b[0m \u001b[0;32mas\u001b[0m \u001b[0me\u001b[0m\u001b[0;34m:\u001b[0m\u001b[0;34m\u001b[0m\u001b[0;34m\u001b[0m\u001b[0m\n",
      "\u001b[0;31mNameError\u001b[0m: name 'multiprocessing' is not defined"
     ]
    }
   ],
   "source": [
    "train_name=\"tensorflow-benchmarks\"\n",
    "mpi_job = mpi_job_client.wait_for_condition(train_name, expected_condition=[\"Succeeded\", \"Failed\"], namespace=namespace, timeout_seconds=1200)\n",
    "\n",
    "if mpi_job_client.is_job_succeeded(train_name, namespace):\n",
    "    print(\"The job succeded\")\n",
    "    logging.info(f\"MPIJob {namespace}.{train_name} succeeded\")\n",
    "else:\n",
    "    raise ValueError(f\"MPIJob {namespace}.{train_name} failed\")"
   ]
  },
  {
   "cell_type": "markdown",
   "metadata": {},
   "source": [
    "### Check the logs from the job"
   ]
  },
  {
   "cell_type": "code",
   "execution_count": 28,
   "metadata": {},
   "outputs": [],
   "source": [
    "!export NAMESPACE={namespace} \n",
    "!PODNAME=$(kubectl get pods -n ${NAMESPACE} -l mpi_job_name=tensorflow-benchmarks,mpi_role_type=launcher -o name)\n",
    "!kubectl -n ${NAMESPACE} logs -f ${PODNAME} "
   ]
  },
  {
   "cell_type": "markdown",
   "metadata": {},
   "source": [
    "## That was all! "
   ]
  }
 ],
 "metadata": {
  "kernelspec": {
   "display_name": "Python 3",
   "language": "python",
   "name": "python3"
  },
  "language_info": {
   "codemirror_mode": {
    "name": "ipython",
    "version": 3
   },
   "file_extension": ".py",
   "mimetype": "text/x-python",
   "name": "python",
   "nbconvert_exporter": "python",
   "pygments_lexer": "ipython3",
   "version": "3.6.9"
  }
 },
 "nbformat": 4,
 "nbformat_minor": 4
}
